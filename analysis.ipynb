{
 "cells": [
  {
   "cell_type": "code",
   "execution_count": 1,
   "metadata": {},
   "outputs": [],
   "source": [
    "# Prepare data before run_myoquant.sh\n",
    "from glob import glob\n",
    "dapi_list = glob(\"moliere-data/dapi/*\")\n",
    "tritc_list = glob(\"moliere-data/tritc/*\")\n",
    "\n",
    "original_img = tritc_list[::2]\n",
    "dapi_mask = dapi_list[1::2]\n",
    "trict_mask = tritc_list[1::2]\n",
    "\n",
    "with open(\"moliere-data/rename_ref_tritc.txt\", \"r\") as name_file:\n",
    "    original_names = name_file.read().splitlines() \n",
    "\n",
    "with open(\"moliere-data/image_path_dataset.tsv\", \"w\") as f:\n",
    "    for index in range(len(original_img)):\n",
    "        f.write(original_img[index] + \"\\t\" + dapi_mask[index] + \"\\t\" + trict_mask[index] + \"\\t\" + original_names[index] + \"\\n\")"
   ]
  },
  {
   "cell_type": "code",
   "execution_count": 24,
   "metadata": {},
   "outputs": [],
   "source": [
    "# Run run_myoquant.sh"
   ]
  },
  {
   "cell_type": "code",
   "execution_count": 2,
   "metadata": {},
   "outputs": [],
   "source": [
    "# Aggregate results\n",
    "import pandas as pd\n",
    "files_names = pd.read_csv(\"moliere-data/image_path_dataset.tsv\", sep=\"\\t\", header=None)\n",
    "agg_results = []\n",
    "for index, row in files_names.iterrows():\n",
    "    image_name = row[0].split(\"/\")[-1]\n",
    "    original_name = row[3]\n",
    "    result_name = image_name.split(\".\")[0] + \"_results.csv\"\n",
    "    results_df = pd.read_csv(\"results/\" + result_name)\n",
    "    raw_count = results_df.iloc[3,1]\n",
    "    proportion_count = results_df.iloc[3,2]\n",
    "    agg_results.append([original_name, raw_count, proportion_count])\n",
    "df_agg_results = pd.DataFrame(agg_results, columns =['Filename', 'Fibers_in_regen', 'Proportion'])\n",
    "df_agg_results.to_csv(\"results/results_all.csv\", index=False)\n"
   ]
  }
 ],
 "metadata": {
  "kernelspec": {
   "display_name": "Python 3.6.9 64-bit",
   "language": "python",
   "name": "python3"
  },
  "language_info": {
   "codemirror_mode": {
    "name": "ipython",
    "version": 3
   },
   "file_extension": ".py",
   "mimetype": "text/x-python",
   "name": "python",
   "nbconvert_exporter": "python",
   "pygments_lexer": "ipython3",
   "version": "3.6.9"
  },
  "orig_nbformat": 4,
  "vscode": {
   "interpreter": {
    "hash": "31f2aee4e71d21fbe5cf8b01ff0e069b9275f58929596ceb00d14d90e3e16cd6"
   }
  }
 },
 "nbformat": 4,
 "nbformat_minor": 2
}
